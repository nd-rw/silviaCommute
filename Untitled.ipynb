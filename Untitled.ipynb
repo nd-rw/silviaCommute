{
 "cells": [
  {
   "cell_type": "code",
   "execution_count": 107,
   "id": "ff79e807-459a-428d-b78b-9d60f081cf55",
   "metadata": {},
   "outputs": [],
   "source": [
    "import logging\n",
    "import requests\n",
    "import re\n",
    "import random"
   ]
  },
  {
   "cell_type": "code",
   "execution_count": 43,
   "id": "17e70c18-de06-4b68-a384-128ea2909d5b",
   "metadata": {},
   "outputs": [],
   "source": [
    "class WRCError(Exception):\n",
    "    def __init__(self, message):\n",
    "        self.message = message\n",
    "\n",
    "    def __str__(self):\n",
    "        return self.message\n",
    "\n",
    "\n",
    "class WazeRouteCalculator(object):\n",
    "    \"\"\"Calculate actual route time and distance with Waze API\"\"\"\n",
    "\n",
    "    WAZE_URL = \"https://www.waze.com/\"\n",
    "    HEADERS = {\n",
    "        \"User-Agent\": \"Mozilla/5.0\",\n",
    "        \"referer\": WAZE_URL,\n",
    "    }\n",
    "    VEHICLE_TYPES = ('TAXI', 'MOTORCYCLE')\n",
    "    BASE_COORDS = {\n",
    "        'US': {\"lat\": 40.713, \"lon\": -74.006},\n",
    "        'EU': {\"lat\": 47.498, \"lon\": 19.040},\n",
    "        'IL': {\"lat\": 31.768, \"lon\": 35.214},\n",
    "        'AU': {\"lat\": -35.281, \"lon\": 149.128}\n",
    "    }\n",
    "    COORD_SERVERS = {\n",
    "        'US': 'SearchServer/mozi',\n",
    "        'EU': 'row-SearchServer/mozi',\n",
    "        'IL': 'il-SearchServer/mozi',\n",
    "        'AU': 'row-SearchServer/mozi'\n",
    "    }\n",
    "    ROUTING_SERVERS = {\n",
    "        'US': 'RoutingManager/routingRequest',\n",
    "        'EU': 'row-RoutingManager/routingRequest',\n",
    "        'IL': 'il-RoutingManager/routingRequest',\n",
    "        'AU': 'row-RoutingManager/routingRequest'\n",
    "    }\n",
    "    COORD_MATCH = re.compile(r'^([-+]?)([\\d]{1,2})(((\\.)(\\d+)(,)))(\\s*)(([-+]?)([\\d]{1,3})((\\.)(\\d+))?)$')\n",
    "\n",
    "    def __init__(self, start_address, end_address, region='EU', vehicle_type='', avoid_toll_roads=False, avoid_subscription_roads=False, avoid_ferries=False, log_lvl=None):\n",
    "        self.log = logging.getLogger(__name__)\n",
    "        self.log.addHandler(logging.NullHandler())\n",
    "        if log_lvl:\n",
    "            self.log.warning(\"log_lvl is deprecated please check example.py \")\n",
    "        self.log.info(\"From: %s - to: %s\", start_address, end_address)\n",
    "        region = region.upper()\n",
    "        if region == 'NA':  # North America\n",
    "            region = 'US'\n",
    "        self.region = region\n",
    "        self.vehicle_type = ''\n",
    "        if vehicle_type and vehicle_type in self.VEHICLE_TYPES:\n",
    "            self.vehicle_type = vehicle_type.upper()\n",
    "        self.ROUTE_OPTIONS = {\n",
    "            'AVOID_TRAILS': 't',\n",
    "            'AVOID_TOLL_ROADS': 't' if avoid_toll_roads else 'f',\n",
    "            'AVOID_FERRIES': 't' if avoid_ferries else 'f'\n",
    "        }\n",
    "        self.avoid_subscription_roads = avoid_subscription_roads\n",
    "        if self.already_coords(start_address):  # See if we have coordinates or address to resolve\n",
    "            self.start_coords = self.coords_string_parser(start_address)\n",
    "        else:\n",
    "            self.start_coords = self.address_to_coords(start_address)\n",
    "        self.log.debug('Start coords: (%s, %s)', self.start_coords[\"lat\"], self.start_coords[\"lon\"])\n",
    "        if self.already_coords(end_address):  # See if we have coordinates or address to resolve\n",
    "            self.end_coords = self.coords_string_parser(end_address)\n",
    "        else:\n",
    "            self.end_coords = self.address_to_coords(end_address)\n",
    "        self.log.debug('End coords: (%s, %s)', self.end_coords[\"lat\"], self.end_coords[\"lon\"])\n",
    "\n",
    "    def already_coords(self, address):\n",
    "        \"\"\"test used to see if we have coordinates or address\"\"\"\n",
    "\n",
    "        m = re.search(self.COORD_MATCH, address)\n",
    "        return (m is not None)\n",
    "\n",
    "    def coords_string_parser(self, coords):\n",
    "        \"\"\"Pareses the address string into coordinates to match address_to_coords return object\"\"\"\n",
    "\n",
    "        lat, lon = coords.split(',')\n",
    "        return {\"lat\": lat.strip(), \"lon\": lon.strip(), \"bounds\": {}}\n",
    "\n",
    "    def address_to_coords(self, address):\n",
    "        \"\"\"Convert address to coordinates\"\"\"\n",
    "\n",
    "        base_coords = self.BASE_COORDS[self.region]\n",
    "        get_cord = self.COORD_SERVERS[self.region]\n",
    "        url_options = {\n",
    "            \"q\": address,\n",
    "            \"lang\": \"eng\",\n",
    "            \"origin\": \"livemap\",\n",
    "            \"lat\": base_coords[\"lat\"],\n",
    "            \"lon\": base_coords[\"lon\"]\n",
    "        }\n",
    "\n",
    "        response = requests.get(self.WAZE_URL + get_cord, params=url_options, headers=self.HEADERS)\n",
    "        for response_json in response.json():\n",
    "            if response_json.get('city'):\n",
    "                lat = response_json['location']['lat']\n",
    "                lon = response_json['location']['lon']\n",
    "                bounds = response_json['bounds']  # sometimes the coords don't match up\n",
    "                if bounds is not None:\n",
    "                    bounds['top'], bounds['bottom'] = max(bounds['top'], bounds['bottom']), min(bounds['top'], bounds['bottom'])\n",
    "                    bounds['left'], bounds['right'] = min(bounds['left'], bounds['right']), max(bounds['left'], bounds['right'])\n",
    "                else:\n",
    "                    bounds = {}\n",
    "                return {\"lat\": lat, \"lon\": lon, \"bounds\": bounds}\n",
    "        raise WRCError(\"Cannot get coords for %s\" % address)\n",
    "\n",
    "    def get_route(self, npaths=1, time_delta=0):\n",
    "        \"\"\"Get route data from waze\"\"\"\n",
    "\n",
    "        routing_server = self.ROUTING_SERVERS[self.region]\n",
    "\n",
    "        url_options = {\n",
    "            \"from\": \"x:%s y:%s\" % (self.start_coords[\"lon\"], self.start_coords[\"lat\"]),\n",
    "            \"to\": \"x:%s y:%s\" % (self.end_coords[\"lon\"], self.end_coords[\"lat\"]),\n",
    "            \"at\": time_delta,\n",
    "            \"returnJSON\": \"true\",\n",
    "            \"returnGeometries\": \"true\",\n",
    "            \"returnInstructions\": \"true\",\n",
    "            \"timeout\": 60000,\n",
    "            \"nPaths\": npaths,\n",
    "            \"options\": ','.join('%s:%s' % (opt, value) for (opt, value) in self.ROUTE_OPTIONS.items()),\n",
    "        }\n",
    "        if self.vehicle_type:\n",
    "            url_options[\"vehicleType\"] = self.vehicle_type\n",
    "        # Handle vignette system in Europe. Defaults to false (show all routes)\n",
    "        if self.avoid_subscription_roads is False:\n",
    "            url_options[\"subscription\"] = \"*\"\n",
    "\n",
    "        response = requests.get(self.WAZE_URL + routing_server, params=url_options, headers=self.HEADERS)\n",
    "        response.encoding = 'utf-8'\n",
    "        response_json = self._check_response(response)\n",
    "        if response_json:\n",
    "            if 'error' in response_json:\n",
    "                raise WRCError(response_json.get(\"error\"))\n",
    "            else:\n",
    "                if response_json.get(\"alternatives\"):\n",
    "                    return [alt['response'] for alt in response_json['alternatives']]\n",
    "                response_obj = response_json['response']\n",
    "                if isinstance(response_obj, list):\n",
    "                    response_obj = response_obj[0]\n",
    "                if npaths > 1:\n",
    "                    return [response_obj]\n",
    "                return response_obj\n",
    "        else:\n",
    "            raise WRCError(\"empty response\")\n",
    "\n",
    "    @staticmethod\n",
    "    def _check_response(response):\n",
    "        \"\"\"Check waze server response.\"\"\"\n",
    "        if response.ok:\n",
    "            try:\n",
    "                return response.json()\n",
    "            except ValueError:\n",
    "                return None\n",
    "\n",
    "    def _add_up_route(self, results, real_time=True, stop_at_bounds=False):\n",
    "        \"\"\"Calculate route time and distance.\"\"\"\n",
    "\n",
    "        start_bounds = self.start_coords['bounds']\n",
    "        end_bounds = self.end_coords['bounds']\n",
    "\n",
    "        def between(target, min, max):\n",
    "            return target > min and target < max\n",
    "\n",
    "        time = 0\n",
    "        distance = 0\n",
    "        for segment in results:\n",
    "            if stop_at_bounds and segment.get('path'):\n",
    "                x = segment['path']['x']\n",
    "                y = segment['path']['y']\n",
    "                if (\n",
    "                    between(x, start_bounds.get('left', 0), start_bounds.get('right', 0)) or\n",
    "                    between(x, end_bounds.get('left', 0), end_bounds.get('right', 0))\n",
    "                ) and (\n",
    "                    between(y, start_bounds.get('bottom', 0), start_bounds.get('top', 0)) or\n",
    "                    between(y, end_bounds.get('bottom', 0), end_bounds.get('top', 0))\n",
    "                ):\n",
    "                    continue\n",
    "            if 'crossTime' in segment:\n",
    "                time += segment['crossTime' if real_time else 'crossTimeWithoutRealTime']\n",
    "            else:\n",
    "                time += segment['cross_time' if real_time else 'cross_time_without_real_time']\n",
    "            distance += segment['length']\n",
    "        route_time = time / 60.0\n",
    "        route_distance = distance / 1000.0\n",
    "        return route_time, route_distance\n",
    "\n",
    "    def calc_route_info(self, real_time=True, stop_at_bounds=False, time_delta=0):\n",
    "        \"\"\"Calculate best route info.\"\"\"\n",
    "\n",
    "        route = self.get_route(1, time_delta)\n",
    "        results = route['results' if 'results' in route else 'result']\n",
    "        route_time, route_distance = self._add_up_route(results, real_time=real_time, stop_at_bounds=stop_at_bounds)\n",
    "        self.log.info('Time %.2f minutes, distance %.2f km.', route_time, route_distance)\n",
    "        return route_time, route_distance\n",
    "\n",
    "    def calc_all_routes_info(self, npaths=3, real_time=True, stop_at_bounds=False, time_delta=0):\n",
    "        \"\"\"Calculate all route infos.\"\"\"\n",
    "\n",
    "        routes = self.get_route(npaths, time_delta)\n",
    "        try:\n",
    "            results = {\"%s-%s\" % (''.join(route.get('routeType', [])[:1]), route.get('routeName', 'unkown')): self._add_up_route(route['results' if 'results' in route else 'result'], real_time=real_time, stop_at_bounds=stop_at_bounds) for route in routes}\n",
    "        except KeyError:\n",
    "            raise WRCError(\"wrong response\")\n",
    "        route_time = [route[0] for route in results.values()]\n",
    "        route_distance = [route[1] for route in results.values()]\n",
    "        self.log.info('Min\\tMax\\n%.2f\\t%.2f minutes\\n%.2f\\t%.2f km', min(route_time), max(route_time), min(route_distance), max(route_distance))\n",
    "        return results"
   ]
  },
  {
   "cell_type": "code",
   "execution_count": 86,
   "id": "b55773e9-d343-4f3f-a66e-6ef36e2f32c5",
   "metadata": {},
   "outputs": [],
   "source": [
    "from_address = '26 Little Walcott St, North Perth'\n",
    "to_address = '22 Railway Road, Subiaco, Australia'\n",
    "region = 'AU'\n",
    "route_class = WazeRouteCalculator(from_address, to_address, region)"
   ]
  },
  {
   "cell_type": "code",
   "execution_count": 87,
   "id": "f0918e43-1980-42af-9929-cf38ba10b2d1",
   "metadata": {},
   "outputs": [],
   "source": [
    "routes = route.calc_all_routes_info()"
   ]
  },
  {
   "cell_type": "code",
   "execution_count": 89,
   "id": "7bd76be8-be21-4dd9-bc6a-a089ee17a677",
   "metadata": {},
   "outputs": [],
   "source": [
    "routeList = [];\n",
    "for k, v in x.items():\n",
    "    routeList.append(objectifyRouteTuple(k, v))\n",
    "\n",
    "routeList.sort(key=lambda x:x['time'])"
   ]
  },
  {
   "cell_type": "code",
   "execution_count": 90,
   "id": "5afa85d4-427f-45c1-81d4-bdbb33350e25",
   "metadata": {
    "scrolled": true
   },
   "outputs": [
    {
     "data": {
      "text/plain": [
       "{'routeName': 'Best-SR56 - Fitzgerald St; SR72 - Vincent St North Perth; SR65 - Hay St Subiaco',\n",
       " 'time': 12.566666666666666,\n",
       " 'distance': 5.644}"
      ]
     },
     "execution_count": 90,
     "metadata": {},
     "output_type": "execute_result"
    }
   ],
   "source": [
    "route_to_display = routeList[0]\n",
    "route_to_display"
   ]
  },
  {
   "cell_type": "code",
   "execution_count": 92,
   "id": "870ecf07-6523-4eaf-801e-7f9acac4a43e",
   "metadata": {},
   "outputs": [],
   "source": [
    "def objectifyRouteTuple(key, routeTuple):\n",
    "    return {'routeName': key, 'time': routeTuple[0], 'distance': routeTuple[1]}"
   ]
  },
  {
   "cell_type": "code",
   "execution_count": 100,
   "id": "192cadbc-36ab-4dcd-9ef7-0cedda36837d",
   "metadata": {},
   "outputs": [],
   "source": [
    "def get_quickest_route_obj(from_address, to_address, region):\n",
    "    route_class = WazeRouteCalculator(from_address, to_address, region)\n",
    "    routes = route.calc_all_routes_info()\n",
    "    routeList = [];\n",
    "    for k, v in x.items():\n",
    "        routeList.append(objectifyRouteTuple(k, v))\n",
    "    routeList.sort(key=lambda x:x['time'])\n",
    "    route_to_display = routeList[0]\n",
    "    return route_to_display"
   ]
  },
  {
   "cell_type": "code",
   "execution_count": 98,
   "id": "87c8b72b-ca96-46d5-b943-f39ec5b78ca8",
   "metadata": {},
   "outputs": [],
   "source": [
    "drive_config = { 'drive_home_from_work': \n",
    "            {'from_address': '26 Little Walcott St, North Perth',\n",
    "             'to_address': '22 Railway Road, Subiaco, Australia',\n",
    "             'region': 'AU'},\n",
    "          'drive_to_work_from_home':\n",
    "              {'from_address': '22 Railway Road, Subiaco, Australia',\n",
    "                 'to_address': '26 Little Walcott St, North Perth',\n",
    "             'region': 'AU'}}"
   ]
  },
  {
   "cell_type": "code",
   "execution_count": 104,
   "id": "b1d61aa7-147a-49c5-9784-a07e03418ea5",
   "metadata": {},
   "outputs": [],
   "source": [
    "def get_drive_home_from_work_route_name():\n",
    "    route_obj = get_quickest_route_obj(drive_config['drive_home_from_work']['from_address'], drive_config['drive_home_from_work']['to_address'], drive_config['drive_home_from_work']['region'])\n",
    "    return route_obj['routeName']\n",
    "\n",
    "def get_drive_to_work_from_home_route_name():\n",
    "    route_obj = get_quickest_route_obj(drive_config['drive_to_work_from_home']['from_address'], drive_config['drive_to_work_from_home']['to_address'], drive_config['drive_to_work_from_home']['region'])\n",
    "    return route_obj['routeName']"
   ]
  },
  {
   "cell_type": "code",
   "execution_count": 103,
   "id": "17c9039c-649d-47ff-9e72-aca9be7b1adf",
   "metadata": {},
   "outputs": [
    {
     "data": {
      "text/plain": [
       "'Best-SR56 - Fitzgerald St; SR72 - Vincent St North Perth; SR65 - Hay St Subiaco'"
      ]
     },
     "execution_count": 103,
     "metadata": {},
     "output_type": "execute_result"
    }
   ],
   "source": [
    "get_drive_home_from_work_route_name()"
   ]
  },
  {
   "cell_type": "code",
   "execution_count": 105,
   "id": "eb1dede2-8bab-42ed-a825-f1fc2e34d638",
   "metadata": {},
   "outputs": [
    {
     "data": {
      "text/plain": [
       "'Best-SR56 - Fitzgerald St; SR72 - Vincent St North Perth; SR65 - Hay St Subiaco'"
      ]
     },
     "execution_count": 105,
     "metadata": {},
     "output_type": "execute_result"
    }
   ],
   "source": [
    "get_drive_to_work_from_home_route_name()"
   ]
  },
  {
   "cell_type": "code",
   "execution_count": 114,
   "id": "17a3628b-e03b-4977-a016-91625035eb0b",
   "metadata": {},
   "outputs": [],
   "source": [
    "def get_mock_button_value():\n",
    "    # placeholder than uses random to return home or work\n",
    "    # to be used until actual buttons are implemented\n",
    "    random_int = random.randint(0,1)\n",
    "    if random_int == 0:\n",
    "        return 'drive_home_from_work'\n",
    "    else:\n",
    "        return 'drive_to_work_from_home'"
   ]
  },
  {
   "cell_type": "code",
   "execution_count": 124,
   "id": "122fc06d-1765-4ee7-b402-c40f9c6c32ae",
   "metadata": {},
   "outputs": [],
   "source": [
    "def main():\n",
    "    button_pressed_value = get_mock_button_value()\n",
    "    if button_pressed_value == 'drive_home_from_work':\n",
    "        text_to_display = get_drive_home_from_work_route_name()\n",
    "        print('button pressed: ' + button_pressed_value)\n",
    "        print(text_to_display)\n",
    "    elif button_pressed_value == 'drive_home_from_work':\n",
    "        text_to_display = get_drive_to_work_from_home_route_name()\n",
    "        print('button pressed: ' + button_pressed_value)\n",
    "        print(text_to_display)\n",
    "    else:\n",
    "        text_to_diplsay = 'ERROR'\n",
    "        print(text_to_display)"
   ]
  },
  {
   "cell_type": "code",
   "execution_count": 126,
   "id": "ed47d3f6-badf-467a-928e-523679fb73df",
   "metadata": {},
   "outputs": [
    {
     "name": "stdout",
     "output_type": "stream",
     "text": [
      "button pressed: drive_home_from_work\n",
      "Best-SR56 - Fitzgerald St; SR72 - Vincent St North Perth; SR65 - Hay St Subiaco\n"
     ]
    }
   ],
   "source": [
    "main()"
   ]
  },
  {
   "cell_type": "code",
   "execution_count": null,
   "id": "cb3bcb0f-4fe1-438c-a0fd-60602416f2a5",
   "metadata": {},
   "outputs": [],
   "source": []
  }
 ],
 "metadata": {
  "kernelspec": {
   "display_name": "Python 3 (ipykernel)",
   "language": "python",
   "name": "python3"
  },
  "language_info": {
   "codemirror_mode": {
    "name": "ipython",
    "version": 3
   },
   "file_extension": ".py",
   "mimetype": "text/x-python",
   "name": "python",
   "nbconvert_exporter": "python",
   "pygments_lexer": "ipython3",
   "version": "3.10.6"
  }
 },
 "nbformat": 4,
 "nbformat_minor": 5
}
